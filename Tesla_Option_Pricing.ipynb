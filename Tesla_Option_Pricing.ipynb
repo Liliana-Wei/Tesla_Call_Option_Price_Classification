{
 "cells": [
  {
   "cell_type": "code",
   "execution_count": 1,
   "metadata": {
    "colab": {
     "base_uri": "https://localhost:8080/"
    },
    "id": "yxnsF8pj4eHr",
    "outputId": "1864479a-6228-45c4-9615-50dcbb7e259d"
   },
   "outputs": [],
   "source": [
    "import numpy as np\n",
    "import pandas as pd\n",
    "import seaborn as sns\n",
    "import xgboost as xgb\n",
    "import lightgbm as lgb\n",
    "from sklearn import tree\n",
    "import statsmodels.api as sm\n",
    "import matplotlib.pyplot as plt\n",
    "from sklearn.metrics import r2_score\n",
    "import statsmodels.formula.api as smf\n",
    "from sklearn.model_selection import KFold, RandomizedSearchCV, GridSearchCV\n",
    "from sklearn.metrics import accuracy_score\n",
    "from sklearn.tree import DecisionTreeRegressor\n",
    "from sklearn.tree import DecisionTreeClassifier\n",
    "from sklearn.preprocessing import StandardScaler\n",
    "from sklearn.linear_model import LinearRegression\n",
    "from sklearn.ensemble import RandomForestRegressor\n",
    "from sklearn.neighbors import KNeighborsClassifier\n",
    "from sklearn.ensemble import RandomForestClassifier\n",
    "from sklearn.ensemble import RandomForestClassifier\n",
    "from sklearn.model_selection import StratifiedKFold\n",
    "from sklearn.linear_model import LogisticRegression\n",
    "from sklearn.model_selection import train_test_split\n",
    "from sklearn.discriminant_analysis import LinearDiscriminantAnalysis\n",
    "from statsmodels.stats.outliers_influence import variance_inflation_factor\n",
    "\n",
    "from datetime import datetime\n",
    "start_time = datetime.now()"
   ]
  },
  {
   "cell_type": "code",
   "execution_count": 2,
   "metadata": {
    "colab": {
     "base_uri": "https://localhost:8080/",
     "height": 206
    },
    "id": "TUbWw8306P42",
    "outputId": "74e462d1-559e-4d78-c98d-c66f62c3fdeb"
   },
   "outputs": [
    {
     "data": {
      "text/html": [
       "<div>\n",
       "<style scoped>\n",
       "    .dataframe tbody tr th:only-of-type {\n",
       "        vertical-align: middle;\n",
       "    }\n",
       "\n",
       "    .dataframe tbody tr th {\n",
       "        vertical-align: top;\n",
       "    }\n",
       "\n",
       "    .dataframe thead th {\n",
       "        text-align: right;\n",
       "    }\n",
       "</style>\n",
       "<table border=\"1\" class=\"dataframe\">\n",
       "  <thead>\n",
       "    <tr style=\"text-align: right;\">\n",
       "      <th></th>\n",
       "      <th>Value</th>\n",
       "      <th>S</th>\n",
       "      <th>K</th>\n",
       "      <th>tau</th>\n",
       "      <th>r</th>\n",
       "      <th>BS</th>\n",
       "    </tr>\n",
       "  </thead>\n",
       "  <tbody>\n",
       "    <tr>\n",
       "      <th>0</th>\n",
       "      <td>21.670404</td>\n",
       "      <td>431.623898</td>\n",
       "      <td>420.0</td>\n",
       "      <td>0.341270</td>\n",
       "      <td>0.03013</td>\n",
       "      <td>Under</td>\n",
       "    </tr>\n",
       "    <tr>\n",
       "      <th>1</th>\n",
       "      <td>0.125000</td>\n",
       "      <td>427.015526</td>\n",
       "      <td>465.0</td>\n",
       "      <td>0.166667</td>\n",
       "      <td>0.03126</td>\n",
       "      <td>Over</td>\n",
       "    </tr>\n",
       "    <tr>\n",
       "      <th>2</th>\n",
       "      <td>20.691244</td>\n",
       "      <td>427.762336</td>\n",
       "      <td>415.0</td>\n",
       "      <td>0.265873</td>\n",
       "      <td>0.03116</td>\n",
       "      <td>Under</td>\n",
       "    </tr>\n",
       "    <tr>\n",
       "      <th>3</th>\n",
       "      <td>1.035002</td>\n",
       "      <td>451.711658</td>\n",
       "      <td>460.0</td>\n",
       "      <td>0.063492</td>\n",
       "      <td>0.02972</td>\n",
       "      <td>Over</td>\n",
       "    </tr>\n",
       "    <tr>\n",
       "      <th>4</th>\n",
       "      <td>39.553020</td>\n",
       "      <td>446.718974</td>\n",
       "      <td>410.0</td>\n",
       "      <td>0.166667</td>\n",
       "      <td>0.02962</td>\n",
       "      <td>Under</td>\n",
       "    </tr>\n",
       "  </tbody>\n",
       "</table>\n",
       "</div>"
      ],
      "text/plain": [
       "       Value           S      K       tau        r     BS\n",
       "0  21.670404  431.623898  420.0  0.341270  0.03013  Under\n",
       "1   0.125000  427.015526  465.0  0.166667  0.03126   Over\n",
       "2  20.691244  427.762336  415.0  0.265873  0.03116  Under\n",
       "3   1.035002  451.711658  460.0  0.063492  0.02972   Over\n",
       "4  39.553020  446.718974  410.0  0.166667  0.02962  Under"
      ]
     },
     "execution_count": 2,
     "metadata": {},
     "output_type": "execute_result"
    }
   ],
   "source": [
    "df_trn = pd.read_csv('option_train.csv')\n",
    "\n",
    "df_trn.head()"
   ]
  },
  {
   "cell_type": "code",
   "execution_count": 3,
   "metadata": {
    "colab": {
     "base_uri": "https://localhost:8080/",
     "height": 206
    },
    "id": "1VfA2DqW6zh2",
    "outputId": "00738a97-cd4d-4e75-bf9d-86792e42097c"
   },
   "outputs": [
    {
     "data": {
      "text/html": [
       "<div>\n",
       "<style scoped>\n",
       "    .dataframe tbody tr th:only-of-type {\n",
       "        vertical-align: middle;\n",
       "    }\n",
       "\n",
       "    .dataframe tbody tr th {\n",
       "        vertical-align: top;\n",
       "    }\n",
       "\n",
       "    .dataframe thead th {\n",
       "        text-align: right;\n",
       "    }\n",
       "</style>\n",
       "<table border=\"1\" class=\"dataframe\">\n",
       "  <thead>\n",
       "    <tr style=\"text-align: right;\">\n",
       "      <th></th>\n",
       "      <th>S</th>\n",
       "      <th>K</th>\n",
       "      <th>tau</th>\n",
       "      <th>r</th>\n",
       "    </tr>\n",
       "  </thead>\n",
       "  <tbody>\n",
       "    <tr>\n",
       "      <th>0</th>\n",
       "      <td>431.618600</td>\n",
       "      <td>460</td>\n",
       "      <td>0.293651</td>\n",
       "      <td>0.03147</td>\n",
       "    </tr>\n",
       "    <tr>\n",
       "      <th>1</th>\n",
       "      <td>432.633296</td>\n",
       "      <td>420</td>\n",
       "      <td>0.182540</td>\n",
       "      <td>0.03147</td>\n",
       "    </tr>\n",
       "    <tr>\n",
       "      <th>2</th>\n",
       "      <td>432.633296</td>\n",
       "      <td>430</td>\n",
       "      <td>0.182540</td>\n",
       "      <td>0.03147</td>\n",
       "    </tr>\n",
       "    <tr>\n",
       "      <th>3</th>\n",
       "      <td>431.618600</td>\n",
       "      <td>415</td>\n",
       "      <td>0.293651</td>\n",
       "      <td>0.03147</td>\n",
       "    </tr>\n",
       "    <tr>\n",
       "      <th>4</th>\n",
       "      <td>434.772855</td>\n",
       "      <td>420</td>\n",
       "      <td>0.043651</td>\n",
       "      <td>0.03147</td>\n",
       "    </tr>\n",
       "  </tbody>\n",
       "</table>\n",
       "</div>"
      ],
      "text/plain": [
       "            S    K       tau        r\n",
       "0  431.618600  460  0.293651  0.03147\n",
       "1  432.633296  420  0.182540  0.03147\n",
       "2  432.633296  430  0.182540  0.03147\n",
       "3  431.618600  415  0.293651  0.03147\n",
       "4  434.772855  420  0.043651  0.03147"
      ]
     },
     "execution_count": 3,
     "metadata": {},
     "output_type": "execute_result"
    }
   ],
   "source": [
    "df_tst = pd.read_csv('option_test_wolabel.csv')\n",
    "df_tst.head()"
   ]
  },
  {
   "cell_type": "code",
   "execution_count": 4,
   "metadata": {
    "colab": {
     "base_uri": "https://localhost:8080/",
     "height": 394
    },
    "id": "eDt3Vhu17T6F",
    "outputId": "f765e935-2e9b-444f-f1a1-38fd3bcffc70"
   },
   "outputs": [
    {
     "data": {
      "text/html": [
       "<div>\n",
       "<style scoped>\n",
       "    .dataframe tbody tr th:only-of-type {\n",
       "        vertical-align: middle;\n",
       "    }\n",
       "\n",
       "    .dataframe tbody tr th {\n",
       "        vertical-align: top;\n",
       "    }\n",
       "\n",
       "    .dataframe thead th {\n",
       "        text-align: right;\n",
       "    }\n",
       "</style>\n",
       "<table border=\"1\" class=\"dataframe\">\n",
       "  <thead>\n",
       "    <tr style=\"text-align: right;\">\n",
       "      <th></th>\n",
       "      <th>Value</th>\n",
       "      <th>S</th>\n",
       "      <th>K</th>\n",
       "      <th>tau</th>\n",
       "      <th>r</th>\n",
       "      <th>BS</th>\n",
       "    </tr>\n",
       "  </thead>\n",
       "  <tbody>\n",
       "    <tr>\n",
       "      <th>count</th>\n",
       "      <td>1678.000000</td>\n",
       "      <td>1679.000000</td>\n",
       "      <td>1678.000000</td>\n",
       "      <td>1679.000000</td>\n",
       "      <td>1680.000000</td>\n",
       "      <td>1680</td>\n",
       "    </tr>\n",
       "    <tr>\n",
       "      <th>unique</th>\n",
       "      <td>NaN</td>\n",
       "      <td>NaN</td>\n",
       "      <td>NaN</td>\n",
       "      <td>NaN</td>\n",
       "      <td>NaN</td>\n",
       "      <td>2</td>\n",
       "    </tr>\n",
       "    <tr>\n",
       "      <th>top</th>\n",
       "      <td>NaN</td>\n",
       "      <td>NaN</td>\n",
       "      <td>NaN</td>\n",
       "      <td>NaN</td>\n",
       "      <td>NaN</td>\n",
       "      <td>Under</td>\n",
       "    </tr>\n",
       "    <tr>\n",
       "      <th>freq</th>\n",
       "      <td>NaN</td>\n",
       "      <td>NaN</td>\n",
       "      <td>NaN</td>\n",
       "      <td>NaN</td>\n",
       "      <td>NaN</td>\n",
       "      <td>946</td>\n",
       "    </tr>\n",
       "    <tr>\n",
       "      <th>mean</th>\n",
       "      <td>15.068709</td>\n",
       "      <td>464.402535</td>\n",
       "      <td>438.241955</td>\n",
       "      <td>0.437519</td>\n",
       "      <td>0.030235</td>\n",
       "      <td>NaN</td>\n",
       "    </tr>\n",
       "    <tr>\n",
       "      <th>std</th>\n",
       "      <td>14.040023</td>\n",
       "      <td>973.652179</td>\n",
       "      <td>23.408989</td>\n",
       "      <td>7.057555</td>\n",
       "      <td>0.000557</td>\n",
       "      <td>NaN</td>\n",
       "    </tr>\n",
       "    <tr>\n",
       "      <th>min</th>\n",
       "      <td>0.125000</td>\n",
       "      <td>0.000000</td>\n",
       "      <td>375.000000</td>\n",
       "      <td>0.003968</td>\n",
       "      <td>0.029510</td>\n",
       "      <td>NaN</td>\n",
       "    </tr>\n",
       "    <tr>\n",
       "      <th>25%</th>\n",
       "      <td>2.255001</td>\n",
       "      <td>433.863864</td>\n",
       "      <td>420.000000</td>\n",
       "      <td>0.119048</td>\n",
       "      <td>0.029820</td>\n",
       "      <td>NaN</td>\n",
       "    </tr>\n",
       "    <tr>\n",
       "      <th>50%</th>\n",
       "      <td>11.190967</td>\n",
       "      <td>442.634081</td>\n",
       "      <td>440.000000</td>\n",
       "      <td>0.202381</td>\n",
       "      <td>0.030130</td>\n",
       "      <td>NaN</td>\n",
       "    </tr>\n",
       "    <tr>\n",
       "      <th>75%</th>\n",
       "      <td>25.747434</td>\n",
       "      <td>447.320414</td>\n",
       "      <td>455.000000</td>\n",
       "      <td>0.285714</td>\n",
       "      <td>0.030540</td>\n",
       "      <td>NaN</td>\n",
       "    </tr>\n",
       "    <tr>\n",
       "      <th>max</th>\n",
       "      <td>60.149367</td>\n",
       "      <td>40333.000000</td>\n",
       "      <td>500.000000</td>\n",
       "      <td>250.000000</td>\n",
       "      <td>0.031880</td>\n",
       "      <td>NaN</td>\n",
       "    </tr>\n",
       "  </tbody>\n",
       "</table>\n",
       "</div>"
      ],
      "text/plain": [
       "              Value             S            K          tau            r  \\\n",
       "count   1678.000000   1679.000000  1678.000000  1679.000000  1680.000000   \n",
       "unique          NaN           NaN          NaN          NaN          NaN   \n",
       "top             NaN           NaN          NaN          NaN          NaN   \n",
       "freq            NaN           NaN          NaN          NaN          NaN   \n",
       "mean      15.068709    464.402535   438.241955     0.437519     0.030235   \n",
       "std       14.040023    973.652179    23.408989     7.057555     0.000557   \n",
       "min        0.125000      0.000000   375.000000     0.003968     0.029510   \n",
       "25%        2.255001    433.863864   420.000000     0.119048     0.029820   \n",
       "50%       11.190967    442.634081   440.000000     0.202381     0.030130   \n",
       "75%       25.747434    447.320414   455.000000     0.285714     0.030540   \n",
       "max       60.149367  40333.000000   500.000000   250.000000     0.031880   \n",
       "\n",
       "           BS  \n",
       "count    1680  \n",
       "unique      2  \n",
       "top     Under  \n",
       "freq      946  \n",
       "mean      NaN  \n",
       "std       NaN  \n",
       "min       NaN  \n",
       "25%       NaN  \n",
       "50%       NaN  \n",
       "75%       NaN  \n",
       "max       NaN  "
      ]
     },
     "execution_count": 4,
     "metadata": {},
     "output_type": "execute_result"
    }
   ],
   "source": [
    "df_trn.describe(include='all')"
   ]
  },
  {
   "cell_type": "code",
   "execution_count": 5,
   "metadata": {
    "colab": {
     "base_uri": "https://localhost:8080/"
    },
    "id": "vNfTuNdW78W7",
    "outputId": "f12c474e-15c4-45b6-f126-8f2dced53aa3"
   },
   "outputs": [
    {
     "data": {
      "text/plain": [
       "Value    2\n",
       "S        1\n",
       "K        2\n",
       "tau      1\n",
       "r        0\n",
       "BS       0\n",
       "dtype: int64"
      ]
     },
     "execution_count": 5,
     "metadata": {},
     "output_type": "execute_result"
    }
   ],
   "source": [
    "df_trn.isnull().sum()"
   ]
  },
  {
   "cell_type": "code",
   "execution_count": 6,
   "metadata": {
    "colab": {
     "base_uri": "https://localhost:8080/"
    },
    "id": "2z-ktAhN-Jly",
    "outputId": "e24567a2-605b-473b-d1de-454d7215cb65"
   },
   "outputs": [
    {
     "name": "stdout",
     "output_type": "stream",
     "text": [
      "[879]\n"
     ]
    }
   ],
   "source": [
    "print(df_trn[df_trn['S']==0].index.values)"
   ]
  },
  {
   "cell_type": "code",
   "execution_count": 7,
   "metadata": {
    "colab": {
     "base_uri": "https://localhost:8080/"
    },
    "id": "JH6TxedL-rE9",
    "outputId": "762ca683-6744-42fb-a11e-5bd2f58ff423"
   },
   "outputs": [
    {
     "name": "stdout",
     "output_type": "stream",
     "text": [
      "[47]\n"
     ]
    }
   ],
   "source": [
    "print(df_trn[df_trn['S']==40333].index.values)"
   ]
  },
  {
   "cell_type": "code",
   "execution_count": 8,
   "metadata": {
    "id": "907MyKPd8CU6"
   },
   "outputs": [],
   "source": [
    "df_trn.drop(index=[47,879], inplace= True)"
   ]
  },
  {
   "cell_type": "code",
   "execution_count": 9,
   "metadata": {
    "colab": {
     "base_uri": "https://localhost:8080/",
     "height": 112
    },
    "id": "6VYpDss9_xiX",
    "outputId": "b15fcfbf-7194-4b06-80ab-0c16d190f0cc"
   },
   "outputs": [
    {
     "data": {
      "text/html": [
       "<div>\n",
       "<style scoped>\n",
       "    .dataframe tbody tr th:only-of-type {\n",
       "        vertical-align: middle;\n",
       "    }\n",
       "\n",
       "    .dataframe tbody tr th {\n",
       "        vertical-align: top;\n",
       "    }\n",
       "\n",
       "    .dataframe thead th {\n",
       "        text-align: right;\n",
       "    }\n",
       "</style>\n",
       "<table border=\"1\" class=\"dataframe\">\n",
       "  <thead>\n",
       "    <tr style=\"text-align: right;\">\n",
       "      <th></th>\n",
       "      <th>Value</th>\n",
       "      <th>S</th>\n",
       "      <th>K</th>\n",
       "      <th>tau</th>\n",
       "      <th>r</th>\n",
       "      <th>BS</th>\n",
       "    </tr>\n",
       "  </thead>\n",
       "  <tbody>\n",
       "    <tr>\n",
       "      <th>12</th>\n",
       "      <td>2.315001</td>\n",
       "      <td>448.688109</td>\n",
       "      <td>470.0</td>\n",
       "      <td>250.0</td>\n",
       "      <td>0.03013</td>\n",
       "      <td>Over</td>\n",
       "    </tr>\n",
       "    <tr>\n",
       "      <th>33</th>\n",
       "      <td>2.565000</td>\n",
       "      <td>445.042240</td>\n",
       "      <td>455.0</td>\n",
       "      <td>146.0</td>\n",
       "      <td>0.03003</td>\n",
       "      <td>Over</td>\n",
       "    </tr>\n",
       "  </tbody>\n",
       "</table>\n",
       "</div>"
      ],
      "text/plain": [
       "       Value           S      K    tau        r    BS\n",
       "12  2.315001  448.688109  470.0  250.0  0.03013  Over\n",
       "33  2.565000  445.042240  455.0  146.0  0.03003  Over"
      ]
     },
     "execution_count": 9,
     "metadata": {},
     "output_type": "execute_result"
    }
   ],
   "source": [
    "df_trn[df_trn['tau'] > df_trn['tau'].mean() + 3 * df_trn['tau'].std()]"
   ]
  },
  {
   "cell_type": "code",
   "execution_count": 10,
   "metadata": {
    "id": "LQ7Mq66iAFG2"
   },
   "outputs": [],
   "source": [
    "df_trn.drop(index=[12,33], inplace= True)"
   ]
  },
  {
   "cell_type": "code",
   "execution_count": 11,
   "metadata": {
    "colab": {
     "base_uri": "https://localhost:8080/",
     "height": 112
    },
    "id": "k_k_J5QIARM4",
    "outputId": "fc5e3bdb-40b8-4783-edb1-8a02c8b6f111"
   },
   "outputs": [
    {
     "data": {
      "text/html": [
       "<div>\n",
       "<style scoped>\n",
       "    .dataframe tbody tr th:only-of-type {\n",
       "        vertical-align: middle;\n",
       "    }\n",
       "\n",
       "    .dataframe tbody tr th {\n",
       "        vertical-align: top;\n",
       "    }\n",
       "\n",
       "    .dataframe thead th {\n",
       "        text-align: right;\n",
       "    }\n",
       "</style>\n",
       "<table border=\"1\" class=\"dataframe\">\n",
       "  <thead>\n",
       "    <tr style=\"text-align: right;\">\n",
       "      <th></th>\n",
       "      <th>Value</th>\n",
       "      <th>S</th>\n",
       "      <th>K</th>\n",
       "      <th>tau</th>\n",
       "      <th>r</th>\n",
       "      <th>BS</th>\n",
       "    </tr>\n",
       "  </thead>\n",
       "  <tbody>\n",
       "    <tr>\n",
       "      <th>205</th>\n",
       "      <td>59.825169</td>\n",
       "      <td>430.638719</td>\n",
       "      <td>375.0</td>\n",
       "      <td>0.289683</td>\n",
       "      <td>0.03178</td>\n",
       "      <td>Under</td>\n",
       "    </tr>\n",
       "    <tr>\n",
       "      <th>1275</th>\n",
       "      <td>60.149367</td>\n",
       "      <td>431.020394</td>\n",
       "      <td>375.0</td>\n",
       "      <td>0.285714</td>\n",
       "      <td>0.03168</td>\n",
       "      <td>Under</td>\n",
       "    </tr>\n",
       "  </tbody>\n",
       "</table>\n",
       "</div>"
      ],
      "text/plain": [
       "          Value           S      K       tau        r     BS\n",
       "205   59.825169  430.638719  375.0  0.289683  0.03178  Under\n",
       "1275  60.149367  431.020394  375.0  0.285714  0.03168  Under"
      ]
     },
     "execution_count": 11,
     "metadata": {},
     "output_type": "execute_result"
    }
   ],
   "source": [
    "df_trn[df_trn['Value'] > df_trn['Value'].mean() + 3 * df_trn['Value'].std()]"
   ]
  },
  {
   "cell_type": "code",
   "execution_count": 12,
   "metadata": {
    "id": "hxv6UlTHAeaL"
   },
   "outputs": [],
   "source": [
    "df_trn.drop(index=[205,1275], inplace= True)"
   ]
  },
  {
   "cell_type": "code",
   "execution_count": 13,
   "metadata": {
    "id": "g6dmFahLA2Pb"
   },
   "outputs": [],
   "source": [
    "df_trn.dropna(inplace = True)"
   ]
  },
  {
   "cell_type": "code",
   "execution_count": 14,
   "metadata": {
    "colab": {
     "base_uri": "https://localhost:8080/",
     "height": 394
    },
    "id": "lszAfwTz--g3",
    "outputId": "1f0e41d1-11ca-44dc-a5fe-10cf9c268b5e"
   },
   "outputs": [
    {
     "data": {
      "text/html": [
       "<div>\n",
       "<style scoped>\n",
       "    .dataframe tbody tr th:only-of-type {\n",
       "        vertical-align: middle;\n",
       "    }\n",
       "\n",
       "    .dataframe tbody tr th {\n",
       "        vertical-align: top;\n",
       "    }\n",
       "\n",
       "    .dataframe thead th {\n",
       "        text-align: right;\n",
       "    }\n",
       "</style>\n",
       "<table border=\"1\" class=\"dataframe\">\n",
       "  <thead>\n",
       "    <tr style=\"text-align: right;\">\n",
       "      <th></th>\n",
       "      <th>Value</th>\n",
       "      <th>S</th>\n",
       "      <th>K</th>\n",
       "      <th>tau</th>\n",
       "      <th>r</th>\n",
       "      <th>BS</th>\n",
       "    </tr>\n",
       "  </thead>\n",
       "  <tbody>\n",
       "    <tr>\n",
       "      <th>count</th>\n",
       "      <td>1671.000000</td>\n",
       "      <td>1671.000000</td>\n",
       "      <td>1671.000000</td>\n",
       "      <td>1671.000000</td>\n",
       "      <td>1671.000000</td>\n",
       "      <td>1671</td>\n",
       "    </tr>\n",
       "    <tr>\n",
       "      <th>unique</th>\n",
       "      <td>NaN</td>\n",
       "      <td>NaN</td>\n",
       "      <td>NaN</td>\n",
       "      <td>NaN</td>\n",
       "      <td>NaN</td>\n",
       "      <td>2</td>\n",
       "    </tr>\n",
       "    <tr>\n",
       "      <th>top</th>\n",
       "      <td>NaN</td>\n",
       "      <td>NaN</td>\n",
       "      <td>NaN</td>\n",
       "      <td>NaN</td>\n",
       "      <td>NaN</td>\n",
       "      <td>Under</td>\n",
       "    </tr>\n",
       "    <tr>\n",
       "      <th>freq</th>\n",
       "      <td>NaN</td>\n",
       "      <td>NaN</td>\n",
       "      <td>NaN</td>\n",
       "      <td>NaN</td>\n",
       "      <td>NaN</td>\n",
       "      <td>942</td>\n",
       "    </tr>\n",
       "    <tr>\n",
       "      <th>mean</th>\n",
       "      <td>15.042632</td>\n",
       "      <td>440.912904</td>\n",
       "      <td>438.291442</td>\n",
       "      <td>0.201920</td>\n",
       "      <td>0.030233</td>\n",
       "      <td>NaN</td>\n",
       "    </tr>\n",
       "    <tr>\n",
       "      <th>std</th>\n",
       "      <td>13.972687</td>\n",
       "      <td>7.525507</td>\n",
       "      <td>23.332369</td>\n",
       "      <td>0.099829</td>\n",
       "      <td>0.000555</td>\n",
       "      <td>NaN</td>\n",
       "    </tr>\n",
       "    <tr>\n",
       "      <th>min</th>\n",
       "      <td>0.125000</td>\n",
       "      <td>425.472331</td>\n",
       "      <td>375.000000</td>\n",
       "      <td>0.003968</td>\n",
       "      <td>0.029510</td>\n",
       "      <td>NaN</td>\n",
       "    </tr>\n",
       "    <tr>\n",
       "      <th>25%</th>\n",
       "      <td>2.205005</td>\n",
       "      <td>433.886762</td>\n",
       "      <td>420.000000</td>\n",
       "      <td>0.119048</td>\n",
       "      <td>0.029820</td>\n",
       "      <td>NaN</td>\n",
       "    </tr>\n",
       "    <tr>\n",
       "      <th>50%</th>\n",
       "      <td>11.220588</td>\n",
       "      <td>442.634081</td>\n",
       "      <td>440.000000</td>\n",
       "      <td>0.202381</td>\n",
       "      <td>0.030130</td>\n",
       "      <td>NaN</td>\n",
       "    </tr>\n",
       "    <tr>\n",
       "      <th>75%</th>\n",
       "      <td>25.745904</td>\n",
       "      <td>447.320414</td>\n",
       "      <td>455.000000</td>\n",
       "      <td>0.285714</td>\n",
       "      <td>0.030540</td>\n",
       "      <td>NaN</td>\n",
       "    </tr>\n",
       "    <tr>\n",
       "      <th>max</th>\n",
       "      <td>56.377405</td>\n",
       "      <td>455.880619</td>\n",
       "      <td>500.000000</td>\n",
       "      <td>0.392857</td>\n",
       "      <td>0.031880</td>\n",
       "      <td>NaN</td>\n",
       "    </tr>\n",
       "  </tbody>\n",
       "</table>\n",
       "</div>"
      ],
      "text/plain": [
       "              Value            S            K          tau            r     BS\n",
       "count   1671.000000  1671.000000  1671.000000  1671.000000  1671.000000   1671\n",
       "unique          NaN          NaN          NaN          NaN          NaN      2\n",
       "top             NaN          NaN          NaN          NaN          NaN  Under\n",
       "freq            NaN          NaN          NaN          NaN          NaN    942\n",
       "mean      15.042632   440.912904   438.291442     0.201920     0.030233    NaN\n",
       "std       13.972687     7.525507    23.332369     0.099829     0.000555    NaN\n",
       "min        0.125000   425.472331   375.000000     0.003968     0.029510    NaN\n",
       "25%        2.205005   433.886762   420.000000     0.119048     0.029820    NaN\n",
       "50%       11.220588   442.634081   440.000000     0.202381     0.030130    NaN\n",
       "75%       25.745904   447.320414   455.000000     0.285714     0.030540    NaN\n",
       "max       56.377405   455.880619   500.000000     0.392857     0.031880    NaN"
      ]
     },
     "execution_count": 14,
     "metadata": {},
     "output_type": "execute_result"
    }
   ],
   "source": [
    "df_trn.describe(include='all')"
   ]
  },
  {
   "cell_type": "code",
   "execution_count": 15,
   "metadata": {
    "id": "LCGEKjzPDX5t"
   },
   "outputs": [],
   "source": [
    "df_trn['BS'] = np.where(df_trn['BS'] == 'Over', 1, 0)"
   ]
  },
  {
   "cell_type": "code",
   "execution_count": 16,
   "metadata": {
    "colab": {
     "base_uri": "https://localhost:8080/",
     "height": 206
    },
    "id": "qs5UUOb0DmIn",
    "outputId": "2eb62c8f-25bc-41ae-df20-f6c0708576e9"
   },
   "outputs": [
    {
     "data": {
      "text/html": [
       "<div>\n",
       "<style scoped>\n",
       "    .dataframe tbody tr th:only-of-type {\n",
       "        vertical-align: middle;\n",
       "    }\n",
       "\n",
       "    .dataframe tbody tr th {\n",
       "        vertical-align: top;\n",
       "    }\n",
       "\n",
       "    .dataframe thead th {\n",
       "        text-align: right;\n",
       "    }\n",
       "</style>\n",
       "<table border=\"1\" class=\"dataframe\">\n",
       "  <thead>\n",
       "    <tr style=\"text-align: right;\">\n",
       "      <th></th>\n",
       "      <th>Value</th>\n",
       "      <th>S</th>\n",
       "      <th>K</th>\n",
       "      <th>tau</th>\n",
       "      <th>r</th>\n",
       "      <th>BS</th>\n",
       "    </tr>\n",
       "  </thead>\n",
       "  <tbody>\n",
       "    <tr>\n",
       "      <th>0</th>\n",
       "      <td>21.670404</td>\n",
       "      <td>431.623898</td>\n",
       "      <td>420.0</td>\n",
       "      <td>0.341270</td>\n",
       "      <td>0.03013</td>\n",
       "      <td>0</td>\n",
       "    </tr>\n",
       "    <tr>\n",
       "      <th>1</th>\n",
       "      <td>0.125000</td>\n",
       "      <td>427.015526</td>\n",
       "      <td>465.0</td>\n",
       "      <td>0.166667</td>\n",
       "      <td>0.03126</td>\n",
       "      <td>1</td>\n",
       "    </tr>\n",
       "    <tr>\n",
       "      <th>2</th>\n",
       "      <td>20.691244</td>\n",
       "      <td>427.762336</td>\n",
       "      <td>415.0</td>\n",
       "      <td>0.265873</td>\n",
       "      <td>0.03116</td>\n",
       "      <td>0</td>\n",
       "    </tr>\n",
       "    <tr>\n",
       "      <th>3</th>\n",
       "      <td>1.035002</td>\n",
       "      <td>451.711658</td>\n",
       "      <td>460.0</td>\n",
       "      <td>0.063492</td>\n",
       "      <td>0.02972</td>\n",
       "      <td>1</td>\n",
       "    </tr>\n",
       "    <tr>\n",
       "      <th>4</th>\n",
       "      <td>39.553020</td>\n",
       "      <td>446.718974</td>\n",
       "      <td>410.0</td>\n",
       "      <td>0.166667</td>\n",
       "      <td>0.02962</td>\n",
       "      <td>0</td>\n",
       "    </tr>\n",
       "  </tbody>\n",
       "</table>\n",
       "</div>"
      ],
      "text/plain": [
       "       Value           S      K       tau        r  BS\n",
       "0  21.670404  431.623898  420.0  0.341270  0.03013   0\n",
       "1   0.125000  427.015526  465.0  0.166667  0.03126   1\n",
       "2  20.691244  427.762336  415.0  0.265873  0.03116   0\n",
       "3   1.035002  451.711658  460.0  0.063492  0.02972   1\n",
       "4  39.553020  446.718974  410.0  0.166667  0.02962   0"
      ]
     },
     "execution_count": 16,
     "metadata": {},
     "output_type": "execute_result"
    }
   ],
   "source": [
    "df_trn.head()"
   ]
  },
  {
   "cell_type": "code",
   "execution_count": 17,
   "metadata": {
    "colab": {
     "base_uri": "https://localhost:8080/",
     "height": 637
    },
    "id": "TgE63XZRBqt5",
    "outputId": "7a2fab4b-4544-4f7a-9481-b81838497228"
   },
   "outputs": [
    {
     "name": "stderr",
     "output_type": "stream",
     "text": [
      "/var/folders/6y/g7ff8wvs7vs0kjfty1qy4ll40000gn/T/ipykernel_47378/3627355042.py:2: DeprecationWarning: `np.bool` is a deprecated alias for the builtin `bool`. To silence this warning, use `bool` by itself. Doing this will not modify any behavior and is safe. If you specifically wanted the numpy scalar type, use `np.bool_` here.\n",
      "Deprecated in NumPy 1.20; for more details and guidance: https://numpy.org/devdocs/release/1.20.0-notes.html#deprecations\n",
      "  mask = np.triu(np.ones_like(df_trn.corr(), dtype=np.bool))\n"
     ]
    },
    {
     "data": {
      "image/png": "[encoded data removed]",
      "text/plain": [
       "<Figure size 1152x432 with 2 Axes>"
      ]
     },
     "metadata": {
      "needs_background": "light"
     },
     "output_type": "display_data"
    }
   ],
   "source": [
    "plt.figure(figsize=(16, 6))\n",
    "mask = np.triu(np.ones_like(df_trn.corr(), dtype=np.bool))\n",
    "heatmap = sns.heatmap(df_trn.corr(), mask=mask, vmin=-1, vmax=1, annot=True, cmap = \"viridis\")\n",
    "heatmap.set_title('Triangle Correlation Heatmap', fontdict={'fontsize':18}, pad=16);"
   ]
  },
  {
   "cell_type": "code",
   "execution_count": 18,
   "metadata": {
    "id": "I-H9MSc8Jcma"
   },
   "outputs": [],
   "source": [
    "modeling_output = pd.DataFrame(columns=['Model','Trn','Tst'],index=range(1000))\n",
    "counter = 0\n",
    "model_counter = 0"
   ]
  },
  {
   "cell_type": "markdown",
   "metadata": {
    "id": "tb4aXTFBrPts"
   },
   "source": [
    "## Regression"
   ]
  },
  {
   "cell_type": "code",
   "execution_count": 19,
   "metadata": {
    "id": "ZCQxDsPAGMET"
   },
   "outputs": [],
   "source": [
    "# Linear Regression\n",
    "LR1 = smf.ols('Value ~ S + K + tau +r', data= df_trn).fit()"
   ]
  },
  {
   "cell_type": "code",
   "execution_count": 20,
   "metadata": {
    "colab": {
     "base_uri": "https://localhost:8080/",
     "height": 550
    },
    "id": "xdfIB3RvGf7b",
    "outputId": "de836736-6057-426c-9c79-2c39d716011b"
   },
   "outputs": [
    {
     "data": {
      "text/html": [
       "<table class=\"simpletable\">\n",
       "<caption>OLS Regression Results</caption>\n",
       "<tr>\n",
       "  <th>Dep. Variable:</th>          <td>Value</td>      <th>  R-squared:         </th> <td>   0.911</td>\n",
       "</tr>\n",
       "<tr>\n",
       "  <th>Model:</th>                   <td>OLS</td>       <th>  Adj. R-squared:    </th> <td>   0.911</td>\n",
       "</tr>\n",
       "<tr>\n",
       "  <th>Method:</th>             <td>Least Squares</td>  <th>  F-statistic:       </th> <td>   4288.</td>\n",
       "</tr>\n",
       "<tr>\n",
       "  <th>Date:</th>             <td>Tue, 25 Jun 2024</td> <th>  Prob (F-statistic):</th>  <td>  0.00</td> \n",
       "</tr>\n",
       "<tr>\n",
       "  <th>Time:</th>                 <td>16:26:33</td>     <th>  Log-Likelihood:    </th> <td> -4751.7</td>\n",
       "</tr>\n",
       "<tr>\n",
       "  <th>No. Observations:</th>      <td>  1671</td>      <th>  AIC:               </th> <td>   9513.</td>\n",
       "</tr>\n",
       "<tr>\n",
       "  <th>Df Residuals:</th>          <td>  1666</td>      <th>  BIC:               </th> <td>   9540.</td>\n",
       "</tr>\n",
       "<tr>\n",
       "  <th>Df Model:</th>              <td>     4</td>      <th>                     </th>     <td> </td>   \n",
       "</tr>\n",
       "<tr>\n",
       "  <th>Covariance Type:</th>      <td>nonrobust</td>    <th>                     </th>     <td> </td>   \n",
       "</tr>\n",
       "</table>\n",
       "<table class=\"simpletable\">\n",
       "<tr>\n",
       "      <td></td>         <th>coef</th>     <th>std err</th>      <th>t</th>      <th>P>|t|</th>  <th>[0.025</th>    <th>0.975]</th>  \n",
       "</tr>\n",
       "<tr>\n",
       "  <th>Intercept</th> <td>  -20.8088</td> <td>   11.216</td> <td>   -1.855</td> <td> 0.064</td> <td>  -42.807</td> <td>    1.190</td>\n",
       "</tr>\n",
       "<tr>\n",
       "  <th>S</th>         <td>    0.6208</td> <td>    0.016</td> <td>   39.795</td> <td> 0.000</td> <td>    0.590</td> <td>    0.651</td>\n",
       "</tr>\n",
       "<tr>\n",
       "  <th>K</th>         <td>   -0.5890</td> <td>    0.005</td> <td> -129.581</td> <td> 0.000</td> <td>   -0.598</td> <td>   -0.580</td>\n",
       "</tr>\n",
       "<tr>\n",
       "  <th>tau</th>       <td>   31.4802</td> <td>    1.045</td> <td>   30.117</td> <td> 0.000</td> <td>   29.430</td> <td>   33.530</td>\n",
       "</tr>\n",
       "<tr>\n",
       "  <th>r</th>         <td>  460.1351</td> <td>  207.133</td> <td>    2.221</td> <td> 0.026</td> <td>   53.866</td> <td>  866.404</td>\n",
       "</tr>\n",
       "</table>\n",
       "<table class=\"simpletable\">\n",
       "<tr>\n",
       "  <th>Omnibus:</th>       <td>154.524</td> <th>  Durbin-Watson:     </th> <td>   2.082</td>\n",
       "</tr>\n",
       "<tr>\n",
       "  <th>Prob(Omnibus):</th> <td> 0.000</td>  <th>  Jarque-Bera (JB):  </th> <td> 199.275</td>\n",
       "</tr>\n",
       "<tr>\n",
       "  <th>Skew:</th>          <td> 0.846</td>  <th>  Prob(JB):          </th> <td>5.35e-44</td>\n",
       "</tr>\n",
       "<tr>\n",
       "  <th>Kurtosis:</th>      <td> 3.049</td>  <th>  Cond. No.          </th> <td>1.27e+06</td>\n",
       "</tr>\n",
       "</table><br/><br/>Notes:<br/>[1] Standard Errors assume that the covariance matrix of the errors is correctly specified.<br/>[2] The condition number is large, 1.27e+06. This might indicate that there are<br/>strong multicollinearity or other numerical problems."
      ],
      "text/plain": [
       "<class 'statsmodels.iolib.summary.Summary'>\n",
       "\"\"\"\n",
       "                            OLS Regression Results                            \n",
       "==============================================================================\n",
       "Dep. Variable:                  Value   R-squared:                       0.911\n",
       "Model:                            OLS   Adj. R-squared:                  0.911\n",
       "Method:                 Least Squares   F-statistic:                     4288.\n",
       "Date:                Tue, 25 Jun 2024   Prob (F-statistic):               0.00\n",
       "Time:                        16:26:33   Log-Likelihood:                -4751.7\n",
       "No. Observations:                1671   AIC:                             9513.\n",
       "Df Residuals:                    1666   BIC:                             9540.\n",
       "Df Model:                           4                                         \n",
       "Covariance Type:            nonrobust                                         \n",
       "==============================================================================\n",
       "                 coef    std err          t      P>|t|      [0.025      0.975]\n",
       "------------------------------------------------------------------------------\n",
       "Intercept    -20.8088     11.216     -1.855      0.064     -42.807       1.190\n",
       "S              0.6208      0.016     39.795      0.000       0.590       0.651\n",
       "K             -0.5890      0.005   -129.581      0.000      -0.598      -0.580\n",
       "tau           31.4802      1.045     30.117      0.000      29.430      33.530\n",
       "r            460.1351    207.133      2.221      0.026      53.866     866.404\n",
       "==============================================================================\n",
       "Omnibus:                      154.524   Durbin-Watson:                   2.082\n",
       "Prob(Omnibus):                  0.000   Jarque-Bera (JB):              199.275\n",
       "Skew:                           0.846   Prob(JB):                     5.35e-44\n",
       "Kurtosis:                       3.049   Cond. No.                     1.27e+06\n",
       "==============================================================================\n",
       "\n",
       "Notes:\n",
       "[1] Standard Errors assume that the covariance matrix of the errors is correctly specified.\n",
       "[2] The condition number is large, 1.27e+06. This might indicate that there are\n",
       "strong multicollinearity or other numerical problems.\n",
       "\"\"\""
      ]
     },
     "execution_count": 20,
     "metadata": {},
     "output_type": "execute_result"
    }
   ],
   "source": [
    "LR1.summary()"
   ]
  },
  {
   "cell_type": "code",
   "execution_count": 21,
   "metadata": {
    "colab": {
     "base_uri": "https://localhost:8080/"
    },
    "id": "BC9UvsFMPMUD",
    "outputId": "929c535f-db03-488b-f113-f96ae67659fa"
   },
   "outputs": [
    {
     "name": "stdout",
     "output_type": "stream",
     "text": [
      "0.9505898637334307\n"
     ]
    }
   ],
   "source": [
    "#  Decision Tree Regression\n",
    "X = df_trn[['S' , 'K' , 'tau' , 'r']].values\n",
    "y = df_trn['Value'].values\n",
    "\n",
    "scores = []\n",
    "for i in range(10):\n",
    "    X_train, X_test, y_train, y_test = train_test_split(X, y,test_size = 0.3)\n",
    "\n",
    "    clf_tree = DecisionTreeRegressor()\n",
    "    path = clf_tree.cost_complexity_pruning_path(X_train, y_train)\n",
    "    ccp_alphas = path.ccp_alphas\n",
    "\n",
    "    kfolds = KFold(n_splits = 10, shuffle = True)\n",
    "\n",
    "    r2 = []\n",
    "    for ccp_alpha in ccp_alphas:\n",
    "      score_for_alpha = []\n",
    "      for train_index, test_index in kfolds.split(X_train, y_train):\n",
    "        clf = DecisionTreeRegressor(ccp_alpha=ccp_alpha, min_samples_leaf = 30)\n",
    "        clf.fit(X_train[train_index], y_train[train_index])\n",
    "        y_pred = clf.predict(X_train[test_index])\n",
    "        score = r2_score(y_pred, y_train[test_index])\n",
    "        score_for_alpha.append(score)\n",
    "      r2.append(sum(score_for_alpha)/len(score_for_alpha))\n",
    "\n",
    "    alpha_cv = ccp_alphas[np.argmax(r2)]\n",
    "    clf_tree_final = DecisionTreeRegressor(ccp_alpha=alpha_cv, min_samples_leaf = 30)\n",
    "    clf_tree_final.fit(X_train, y_train)\n",
    "\n",
    "    y_pred_train = clf_tree_final.predict(X_train)\n",
    "    score_train = r2_score(y_train, y_pred_train)\n",
    "\n",
    "    y_pred_test = clf_tree_final.predict(X_test)\n",
    "    score_test = r2_score(y_test, y_pred_test)\n",
    "    modeling_output.iloc[counter] = ['Decision Tree reg', score_train, score_test]\n",
    "    counter = counter + 1\n",
    "    model_counter = model_counter + 1\n",
    "\n",
    "    scores.append(score_test)\n",
    "\n",
    "score_test = np.mean(np.array(scores))\n",
    "print(score_test)"
   ]
  },
  {
   "cell_type": "code",
   "execution_count": 22,
   "metadata": {
    "colab": {
     "base_uri": "https://localhost:8080/"
    },
    "id": "WhhZDKs2Xapb",
    "outputId": "fc6fa340-2a0d-4681-a0f3-f6d391a29ec4"
   },
   "outputs": [
    {
     "data": {
      "text/plain": [
       "{'n_estimators': 200,\n",
       " 'min_samples_split': 5,\n",
       " 'min_samples_leaf': 5,\n",
       " 'max_features': 3,\n",
       " 'max_depth': 7,\n",
       " 'criterion': 'absolute_error'}"
      ]
     },
     "execution_count": 22,
     "metadata": {},
     "output_type": "execute_result"
    }
   ],
   "source": [
    "# random forest hyperparameter tuning\n",
    "RF = RandomForestRegressor(random_state = 0)\n",
    "\n",
    "RF_param = {'n_estimators': [20, 50, 100, 150, 200],\n",
    "            'max_depth': np.arange(1,10),\n",
    "            'max_features': np.arange(2,4),\n",
    "            'min_samples_leaf': np.arange(1,10),\n",
    "            'min_samples_split': np.arange(2,10),\n",
    "            'criterion': ['absolute_error', 'friedman_mse'] }\n",
    "\n",
    "RF_cv = RandomizedSearchCV(RF, param_distributions=RF_param, cv=10, n_iter=20, random_state=0)\n",
    "RF_cv.fit(X, y)\n",
    "RF_cv.best_params_"
   ]
  },
  {
   "cell_type": "code",
   "execution_count": 23,
   "metadata": {
    "id": "6zysXyiUa5tu"
   },
   "outputs": [],
   "source": [
    "RF_best = RandomForestRegressor(n_estimators = RF_cv.best_params_['n_estimators'],\n",
    "                                max_features = RF_cv.best_params_['max_features'],\n",
    "                                max_depth = RF_cv.best_params_['max_depth'],\n",
    "                                criterion = RF_cv.best_params_['criterion'],\n",
    "                                min_samples_leaf = RF_cv.best_params_['min_samples_leaf'],\n",
    "                                min_samples_split = RF_cv.best_params_['min_samples_split'],\n",
    "                                random_state = 0)"
   ]
  },
  {
   "cell_type": "code",
   "execution_count": 24,
   "metadata": {
    "colab": {
     "base_uri": "https://localhost:8080/"
    },
    "id": "B8EZqlnafdST",
    "outputId": "ab48c8dd-8458-4bd1-da33-dea65f911f71"
   },
   "outputs": [
    {
     "name": "stdout",
     "output_type": "stream",
     "text": [
      "0.9857597154276105\n"
     ]
    }
   ],
   "source": [
    "# Random Forest Regression\n",
    "X = df_trn[['S' , 'K' , 'tau' , 'r']].values\n",
    "y = df_trn['Value'].values\n",
    "\n",
    "score = []\n",
    "for i in range(10):\n",
    "    X_train, X_test, y_train, y_test = train_test_split(X, y,test_size = 0.3)\n",
    "\n",
    "    clf_rf = RF_best\n",
    "    clf_rf.fit(X_train, y_train)\n",
    "\n",
    "    y_pred_train_rf = clf_rf.predict(X_train)\n",
    "    score_train_rf = r2_score(y_train, y_pred_train_rf)\n",
    "\n",
    "    y_pred_rf = clf_rf.predict(X_test)\n",
    "    score_test_rf = r2_score(y_test, y_pred_rf)\n",
    "\n",
    "    modeling_output.iloc[counter] = ['Random Forest reg', score_train_rf, score_test_rf]\n",
    "    counter = counter + 1\n",
    "    model_counter = model_counter + 1\n",
    "\n",
    "    score.append(score_test_rf)\n",
    "\n",
    "score_test_rf = np.mean(np.array(score))\n",
    "print(score_test_rf)"
   ]
  },
  {
   "cell_type": "code",
   "execution_count": 25,
   "metadata": {
    "colab": {
     "base_uri": "https://localhost:8080/"
    },
    "id": "G8g7D-NUU0Ye",
    "outputId": "e0ca869c-a613-4184-db32-9dea4d0019f2"
   },
   "outputs": [
    {
     "name": "stdout",
     "output_type": "stream",
     "text": [
      "0.9949720927398591\n"
     ]
    }
   ],
   "source": [
    "# Random Forest Regression\n",
    "X = df_trn[['S' , 'K' , 'tau' , 'r']].values\n",
    "y = df_trn['Value'].values\n",
    "\n",
    "score = []\n",
    "for i in range(10):\n",
    "    X_train, X_test, y_train, y_test = train_test_split(X, y,test_size = 0.3)\n",
    "\n",
    "    clf_rf =  RandomForestRegressor(n_estimators = 100)\n",
    "    clf_rf.fit(X_train, y_train)\n",
    "\n",
    "    y_pred_train_rf = clf_rf.predict(X_train)\n",
    "    score_train_rf = r2_score(y_train, y_pred_train_rf)\n",
    "\n",
    "    y_pred_rf = clf_rf.predict(X_test)\n",
    "    score_test_rf = r2_score(y_test, y_pred_rf)\n",
    "\n",
    "    modeling_output.iloc[counter] = ['Random Forest reg', score_train_rf, score_test_rf]\n",
    "    counter = counter + 1\n",
    "    model_counter = model_counter + 1\n",
    "\n",
    "    score.append(score_test_rf)\n",
    "\n",
    "score_test_rf = np.mean(np.array(score))\n",
    "print(score_test_rf)"
   ]
  },
  {
   "cell_type": "markdown",
   "metadata": {
    "id": "37rnzdGjrqli"
   },
   "source": [
    "## Classification"
   ]
  },
  {
   "cell_type": "code",
   "execution_count": 26,
   "metadata": {
    "colab": {
     "base_uri": "https://localhost:8080/",
     "height": 370
    },
    "id": "d-dNi48XH4yb",
    "outputId": "a2c49581-d0af-4960-9f91-1d714d7140ec"
   },
   "outputs": [
    {
     "name": "stdout",
     "output_type": "stream",
     "text": [
      "Optimization terminated successfully.\n",
      "         Current function value: 0.208188\n",
      "         Iterations 10\n"
     ]
    },
    {
     "data": {
      "text/html": [
       "<table class=\"simpletable\">\n",
       "<caption>Logit Regression Results</caption>\n",
       "<tr>\n",
       "  <th>Dep. Variable:</th>          <td>BS</td>        <th>  No. Observations:  </th>  <td>  1671</td> \n",
       "</tr>\n",
       "<tr>\n",
       "  <th>Model:</th>                 <td>Logit</td>      <th>  Df Residuals:      </th>  <td>  1666</td> \n",
       "</tr>\n",
       "<tr>\n",
       "  <th>Method:</th>                 <td>MLE</td>       <th>  Df Model:          </th>  <td>     4</td> \n",
       "</tr>\n",
       "<tr>\n",
       "  <th>Date:</th>            <td>Tue, 25 Jun 2024</td> <th>  Pseudo R-squ.:     </th>  <td>0.6961</td> \n",
       "</tr>\n",
       "<tr>\n",
       "  <th>Time:</th>                <td>16:35:41</td>     <th>  Log-Likelihood:    </th> <td> -347.88</td>\n",
       "</tr>\n",
       "<tr>\n",
       "  <th>converged:</th>             <td>True</td>       <th>  LL-Null:           </th> <td> -1144.6</td>\n",
       "</tr>\n",
       "<tr>\n",
       "  <th>Covariance Type:</th>     <td>nonrobust</td>    <th>  LLR p-value:       </th>  <td> 0.000</td> \n",
       "</tr>\n",
       "</table>\n",
       "<table class=\"simpletable\">\n",
       "<tr>\n",
       "      <td></td>         <th>coef</th>     <th>std err</th>      <th>z</th>      <th>P>|z|</th>  <th>[0.025</th>    <th>0.975]</th>  \n",
       "</tr>\n",
       "<tr>\n",
       "  <th>Intercept</th> <td>   48.0972</td> <td>   10.701</td> <td>    4.495</td> <td> 0.000</td> <td>   27.123</td> <td>   69.071</td>\n",
       "</tr>\n",
       "<tr>\n",
       "  <th>S</th>         <td>   -0.2583</td> <td>    0.020</td> <td>  -12.955</td> <td> 0.000</td> <td>   -0.297</td> <td>   -0.219</td>\n",
       "</tr>\n",
       "<tr>\n",
       "  <th>K</th>         <td>    0.2158</td> <td>    0.012</td> <td>   18.035</td> <td> 0.000</td> <td>    0.192</td> <td>    0.239</td>\n",
       "</tr>\n",
       "<tr>\n",
       "  <th>tau</th>       <td>   -3.6666</td> <td>    0.986</td> <td>   -3.720</td> <td> 0.000</td> <td>   -5.599</td> <td>   -1.735</td>\n",
       "</tr>\n",
       "<tr>\n",
       "  <th>r</th>         <td> -956.0705</td> <td>  198.237</td> <td>   -4.823</td> <td> 0.000</td> <td>-1344.608</td> <td> -567.533</td>\n",
       "</tr>\n",
       "</table>"
      ],
      "text/plain": [
       "<class 'statsmodels.iolib.summary.Summary'>\n",
       "\"\"\"\n",
       "                           Logit Regression Results                           \n",
       "==============================================================================\n",
       "Dep. Variable:                     BS   No. Observations:                 1671\n",
       "Model:                          Logit   Df Residuals:                     1666\n",
       "Method:                           MLE   Df Model:                            4\n",
       "Date:                Tue, 25 Jun 2024   Pseudo R-squ.:                  0.6961\n",
       "Time:                        16:35:41   Log-Likelihood:                -347.88\n",
       "converged:                       True   LL-Null:                       -1144.6\n",
       "Covariance Type:            nonrobust   LLR p-value:                     0.000\n",
       "==============================================================================\n",
       "                 coef    std err          z      P>|z|      [0.025      0.975]\n",
       "------------------------------------------------------------------------------\n",
       "Intercept     48.0972     10.701      4.495      0.000      27.123      69.071\n",
       "S             -0.2583      0.020    -12.955      0.000      -0.297      -0.219\n",
       "K              0.2158      0.012     18.035      0.000       0.192       0.239\n",
       "tau           -3.6666      0.986     -3.720      0.000      -5.599      -1.735\n",
       "r           -956.0705    198.237     -4.823      0.000   -1344.608    -567.533\n",
       "==============================================================================\n",
       "\"\"\""
      ]
     },
     "execution_count": 26,
     "metadata": {},
     "output_type": "execute_result"
    }
   ],
   "source": [
    "LG = smf.logit('BS ~ S + K + tau +r', data= df_trn).fit()\n",
    "LG.summary()"
   ]
  },
  {
   "cell_type": "code",
   "execution_count": 27,
   "metadata": {
    "colab": {
     "base_uri": "https://localhost:8080/"
    },
    "id": "E_3hEcrTIZ04",
    "outputId": "ca7ece0c-4cea-402c-cd7b-11b4ccbd8861"
   },
   "outputs": [
    {
     "data": {
      "text/plain": [
       "array([[874.,  68.],\n",
       "       [ 78., 651.]])"
      ]
     },
     "execution_count": 27,
     "metadata": {},
     "output_type": "execute_result"
    }
   ],
   "source": [
    "LG.pred_table()"
   ]
  },
  {
   "cell_type": "code",
   "execution_count": 28,
   "metadata": {
    "colab": {
     "base_uri": "https://localhost:8080/"
    },
    "id": "-BYnovizImqE",
    "outputId": "0d96119f-b00a-4792-b786-5675d52e595e"
   },
   "outputs": [
    {
     "data": {
      "text/plain": [
       "0.9126271693596649"
      ]
     },
     "execution_count": 28,
     "metadata": {},
     "output_type": "execute_result"
    }
   ],
   "source": [
    "(874+651)/len(df_trn)"
   ]
  },
  {
   "cell_type": "code",
   "execution_count": 29,
   "metadata": {
    "colab": {
     "base_uri": "https://localhost:8080/"
    },
    "id": "1tpq4ViXS8KY",
    "outputId": "75fcf791-d8b9-41dd-ffaa-1c2514cbafc8"
   },
   "outputs": [
    {
     "name": "stdout",
     "output_type": "stream",
     "text": [
      "0.9051792828685258\n"
     ]
    }
   ],
   "source": [
    "# Decision Tree Classification\n",
    "X = df_trn[['S' , 'K' , 'tau' , 'r']].values\n",
    "y_class = df_trn['BS'].values\n",
    "\n",
    "# Decision Tree Classification\n",
    "scores = []\n",
    "for i in range(10):\n",
    "    X_train, X_test, y_train, y_test = train_test_split(X, y_class, test_size = 0.3, stratify = y_class)\n",
    "\n",
    "    clf_tree = DecisionTreeClassifier()\n",
    "    path = clf_tree.cost_complexity_pruning_path(X_train, y_train)\n",
    "    ccp_alphas = path.ccp_alphas\n",
    "\n",
    "    kfolds = StratifiedKFold(n_splits = 10, shuffle = True)\n",
    "\n",
    "    accuracies = []\n",
    "    for ccp_alpha in ccp_alphas:\n",
    "      score_for_alpha = []\n",
    "      for train_index, test_index in kfolds.split(X_train, y_train):\n",
    "        clf = DecisionTreeClassifier( ccp_alpha=ccp_alpha)\n",
    "        clf.fit(X_train[train_index], y_train[train_index])\n",
    "        y_pred = clf.predict(X_train[test_index])\n",
    "        score = accuracy_score(y_pred, y_train[test_index])\n",
    "        score_for_alpha.append(score)\n",
    "      accuracies.append(sum(score_for_alpha)/len(score_for_alpha))\n",
    "\n",
    "    alpha_cv = ccp_alphas[np.argmax(accuracies)]\n",
    "    clf_tree_final = DecisionTreeClassifier(ccp_alpha=alpha_cv, min_samples_leaf = 10)\n",
    "    clf_tree_final.fit(X_train, y_train)\n",
    "\n",
    "    y_pred_train = clf_tree_final.predict(X_train)\n",
    "    score_train = accuracy_score(y_train, y_pred_train)\n",
    "\n",
    "    y_pred_test = clf_tree_final.predict(X_test)\n",
    "    score_test = accuracy_score(y_test, y_pred_test)\n",
    "\n",
    "\n",
    "    modeling_output.iloc[counter] = ['Decision Tree cla', score_train, score_test]\n",
    "    counter = counter + 1\n",
    "    model_counter = model_counter + 1\n",
    "\n",
    "    scores.append(score_test)\n",
    "\n",
    "score_test = np.mean(np.array(scores))\n",
    "print(score_test)"
   ]
  },
  {
   "cell_type": "code",
   "execution_count": 30,
   "metadata": {
    "colab": {
     "base_uri": "https://localhost:8080/"
    },
    "id": "sXR1-uHUZfg7",
    "outputId": "4b1ace65-18ab-4a4b-9687-703aab4240db"
   },
   "outputs": [
    {
     "name": "stdout",
     "output_type": "stream",
     "text": [
      "0.9252988047808766\n"
     ]
    }
   ],
   "source": [
    "# Random Forest Classification\n",
    "X = df_trn[['S' , 'K' , 'tau' , 'r']].values\n",
    "y_class = df_trn['BS'].values\n",
    "\n",
    "score = []\n",
    "for i in range(10):\n",
    "    X_train, X_test, y_train, y_test = train_test_split(X, y_class, test_size = 0.3, stratify = y_class)\n",
    "    clf_rf = RandomForestClassifier(n_estimators = 100, min_samples_leaf= 10)\n",
    "    clf_rf.fit(X_train, y_train)\n",
    "\n",
    "    y_pred_rf = clf_rf.predict(X_train)\n",
    "    score_train_rf = accuracy_score(y_train, y_pred_rf)\n",
    "\n",
    "    y_pred_rf = clf_rf.predict(X_test)\n",
    "    score_test_rf = accuracy_score(y_test, y_pred_rf)\n",
    "    modeling_output.iloc[counter] = ['Random Forest cla', score_train_rf, score_test_rf]\n",
    "    counter = counter + 1\n",
    "    model_counter = model_counter + 1\n",
    "\n",
    "    score.append(score_test_rf)\n",
    "\n",
    "score_test_rf =np.mean(np.array(score))\n",
    "print(score_test_rf)"
   ]
  },
  {
   "cell_type": "code",
   "execution_count": 31,
   "metadata": {
    "colab": {
     "base_uri": "https://localhost:8080/"
    },
    "id": "yERFOYXihNSj",
    "outputId": "24658ecd-4132-4f60-d4ab-dfc46a472498"
   },
   "outputs": [
    {
     "name": "stdout",
     "output_type": "stream",
     "text": [
      "0.9185258964143426\n"
     ]
    }
   ],
   "source": [
    "# LightGBM Classification\n",
    "\n",
    "X = df_trn[['S' , 'K' , 'tau' , 'r']].values\n",
    "y_class = df_trn['BS'].values\n",
    "\n",
    "score = []\n",
    "for i in range(10):\n",
    "    X_train, X_test, y_train, y_test = train_test_split(X, y_class, test_size = 0.3, stratify = y_class)\n",
    "    clf_lgb = lgb.LGBMClassifier(min_child_samples = 10, num_leaves=4, n_estimators=100)\n",
    "    clf_lgb.fit(X_train, y_train)\n",
    "\n",
    "    y_pred_lgb = clf_lgb.predict(X_train)\n",
    "    score_train_lgb = accuracy_score(y_train, y_pred_lgb)\n",
    "\n",
    "    y_pred_lgb = clf_lgb.predict(X_test)\n",
    "    score_test_lgb = accuracy_score(y_test, y_pred_lgb)\n",
    "\n",
    "    modeling_output.iloc[counter] = ['LightGBM cla', score_train_lgb, score_test_lgb]\n",
    "    counter = counter + 1\n",
    "    model_counter = model_counter + 1\n",
    "\n",
    "    score.append(score_test_lgb)\n",
    "\n",
    "score_test_lgb =np.mean(np.array(score))\n",
    "print(score_test_lgb)\n"
   ]
  },
  {
   "cell_type": "code",
   "execution_count": 32,
   "metadata": {
    "colab": {
     "base_uri": "https://localhost:8080/"
    },
    "id": "OSQqZDXfaFek",
    "outputId": "c1d6f9d3-a8b5-4326-83cc-cff6f7a09541"
   },
   "outputs": [
    {
     "data": {
      "text/plain": [
       "{'gamma': 0, 'max_depth': 3, 'min_child_weight': 3, 'n_estimators': 200}"
      ]
     },
     "execution_count": 32,
     "metadata": {},
     "output_type": "execute_result"
    }
   ],
   "source": [
    "# XGBoost Hyperparameter tuning\n",
    "X = df_trn[['S' , 'K' , 'tau' , 'r']].values\n",
    "y_class = df_trn['BS'].values\n",
    "X_train, X_test, y_train, y_test = train_test_split(X, y_class, test_size = 0.3, stratify = y_class)\n",
    "\n",
    "\n",
    "XG = xgb.XGBClassifier(random_state = 0)\n",
    "\n",
    "XG_param = {'n_estimators': [20, 50, 100, 150, 200],\n",
    "            'max_depth': np.arange(1,10),\n",
    "            'min_child_weight': np.arange(5),\n",
    "            'gamma': np.arange(5)}\n",
    "\n",
    "XG_cv = GridSearchCV(XG, param_grid=XG_param, cv=10, scoring = 'precision')\n",
    "XG_cv.fit(X_train, y_train)\n",
    "XG_cv.best_params_"
   ]
  },
  {
   "cell_type": "code",
   "execution_count": 33,
   "metadata": {
    "id": "eareg2aucrTH"
   },
   "outputs": [],
   "source": [
    "XG_best = xgb.XGBClassifier(n_estimators = XG_cv.best_params_['n_estimators'],\n",
    "                            max_depth = XG_cv.best_params_['max_depth'],\n",
    "                            min_child_weight = XG_cv.best_params_['min_child_weight'],\n",
    "                            gamma = XG_cv.best_params_['gamma'],\n",
    "                            random_state = 0)"
   ]
  },
  {
   "cell_type": "code",
   "execution_count": 34,
   "metadata": {
    "id": "NHAKFte3vFd_"
   },
   "outputs": [],
   "source": [
    "XG = xgb.XGBClassifier(random_state = 0)\n",
    "\n",
    "XG_param = {'n_estimators': [20, 50, 100, 150, 200],\n",
    "            'max_depth': np.arange(1,10),\n",
    "            'min_child_weight': np.arange(5),\n",
    "            'gamma': np.arange(5)}\n",
    "\n",
    "XG_cv = GridSearchCV(XG, param_grid=XG_param, cv=10, scoring = 'precision')\n",
    "XG_cv.fit(X, y_class)\n",
    "XG_cv.best_params_\n",
    "\n",
    "XG_best = xgb.XGBClassifier(n_estimators = XG_cv.best_params_['n_estimators'],\n",
    "                            max_depth = XG_cv.best_params_['max_depth'],\n",
    "                            min_child_weight = XG_cv.best_params_['min_child_weight'],\n",
    "                            gamma = XG_cv.best_params_['gamma'],\n",
    "                            random_state = 0)"
   ]
  },
  {
   "cell_type": "code",
   "execution_count": 35,
   "metadata": {
    "colab": {
     "base_uri": "https://localhost:8080/"
    },
    "id": "ltbTN7AEddFN",
    "outputId": "f25a1604-f267-4742-f0d6-23fda16c79e4"
   },
   "outputs": [
    {
     "name": "stdout",
     "output_type": "stream",
     "text": [
      "0.9322709163346614\n"
     ]
    }
   ],
   "source": [
    "# XG Boost Classification\n",
    "X = df_trn[['S' , 'K' , 'tau' , 'r']].values\n",
    "y_class = df_trn['BS'].values\n",
    "\n",
    "score = []\n",
    "for i in range(10):\n",
    "    X_train, X_test, y_train, y_test = train_test_split(X, y_class, test_size = 0.3, stratify = y_class)\n",
    "    clf_xgb = XG_best\n",
    "    clf_xgb.fit(X_train, y_train)\n",
    "\n",
    "    y_pred_xgb = clf_xgb.predict(X_train)\n",
    "    score_train_xgb = accuracy_score(y_train, y_pred_xgb)\n",
    "\n",
    "    y_pred_xgb = clf_xgb.predict(X_test)\n",
    "    score_test_xgb = accuracy_score(y_test, y_pred_xgb)\n",
    "\n",
    "    modeling_output.iloc[counter] = ['XGBoost cla', score_train_xgb, score_test_xgb]\n",
    "    counter = counter + 1\n",
    "    model_counter = model_counter + 1\n",
    "\n",
    "    score.append(score_test_xgb)\n",
    "\n",
    "score_test_xgb =np.mean(np.array(score))\n",
    "print(score_test_xgb)"
   ]
  },
  {
   "cell_type": "code",
   "execution_count": 36,
   "metadata": {
    "colab": {
     "base_uri": "https://localhost:8080/"
    },
    "id": "KzGiGL3lh6rR",
    "outputId": "31556119-5cdf-465e-93b1-652ab478f583"
   },
   "outputs": [
    {
     "name": "stdout",
     "output_type": "stream",
     "text": [
      "0.9262948207171314\n"
     ]
    }
   ],
   "source": [
    "# XG Boost Classification\n",
    "X = df_trn[['S' , 'K' , 'tau' , 'r']].values\n",
    "y_class = df_trn['BS'].values\n",
    "\n",
    "score = []\n",
    "for i in range(10):\n",
    "    X_train, X_test, y_train, y_test = train_test_split(X, y_class, test_size = 0.3, stratify = y_class)\n",
    "    clf_xgb = xgb.XGBClassifier(max_depth=2, n_estimators=100)\n",
    "    clf_xgb.fit(X_train, y_train)\n",
    "\n",
    "    y_pred_xgb = clf_xgb.predict(X_train)\n",
    "    score_train_xgb = accuracy_score(y_train, y_pred_xgb)\n",
    "\n",
    "    y_pred_xgb = clf_xgb.predict(X_test)\n",
    "    score_test_xgb = accuracy_score(y_test, y_pred_xgb)\n",
    "\n",
    "    modeling_output.iloc[counter] = ['XGBoost cla', score_train_xgb, score_test_xgb]\n",
    "    counter = counter + 1\n",
    "    model_counter = model_counter + 1\n",
    "\n",
    "    score.append(score_test_xgb)\n",
    "\n",
    "score_test_xgb =np.mean(np.array(score))\n",
    "print(score_test_xgb)\n"
   ]
  },
  {
   "cell_type": "code",
   "execution_count": 37,
   "metadata": {
    "colab": {
     "base_uri": "https://localhost:8080/"
    },
    "id": "v_xF-zWRi0T8",
    "outputId": "0e325ae8-d13a-49f1-e0ee-bef05ce0a8db"
   },
   "outputs": [
    {
     "name": "stdout",
     "output_type": "stream",
     "text": [
      "0.9067729083665338\n"
     ]
    }
   ],
   "source": [
    "# KNN Classification\n",
    "X = df_trn[['S' , 'K' , 'tau' , 'r']].values\n",
    "y_class = df_trn['BS'].values\n",
    "\n",
    "score = []\n",
    "for i in range(10):\n",
    "    X_train, X_test, y_train, y_test = train_test_split(X, y_class, test_size = 0.3, stratify = y_class)\n",
    "    knn = KNeighborsClassifier(n_neighbors = 20)\n",
    "    knn.fit(X_train, y_train)\n",
    "\n",
    "    y_pred_knn = knn.predict(X_train)\n",
    "    score_train_knn = accuracy_score(y_train, y_pred_knn)\n",
    "\n",
    "    y_pred_knn = knn.predict(X_test)\n",
    "    score_test_knn = accuracy_score(y_test, y_pred_knn)\n",
    "    modeling_output.iloc[counter] = ['KNN cla', score_train_knn, score_test_knn]\n",
    "    counter = counter + 1\n",
    "    model_counter = model_counter + 1\n",
    "\n",
    "    score.append(score_test_knn)\n",
    "\n",
    "\n",
    "score_test_knn =np.mean(np.array(score))\n",
    "print(score_test_knn)"
   ]
  },
  {
   "cell_type": "code",
   "execution_count": 38,
   "metadata": {
    "id": "ueGRPZscXxiO"
   },
   "outputs": [],
   "source": [
    "df = modeling_output.dropna()"
   ]
  },
  {
   "cell_type": "code",
   "execution_count": 39,
   "metadata": {
    "id": "_LSpgde1X5a-"
   },
   "outputs": [],
   "source": [
    "df_unpivot = df.melt( id_vars='Model', value_vars=['Trn','Tst'], var_name=['Type'], value_name='Value')"
   ]
  },
  {
   "cell_type": "code",
   "execution_count": 40,
   "metadata": {
    "id": "twTceHmIYCV3"
   },
   "outputs": [],
   "source": [
    "df_compare = df_unpivot[(df_unpivot['Type']=='Trn') | (df_unpivot['Type']=='Tst')]"
   ]
  },
  {
   "cell_type": "code",
   "execution_count": 41,
   "metadata": {
    "id": "f4TiTwjqYIh9"
   },
   "outputs": [],
   "source": [
    "output = df.groupby('Model').agg({'Trn':['mean','std'],'Tst':['mean','std']})"
   ]
  },
  {
   "cell_type": "code",
   "execution_count": 42,
   "metadata": {
    "colab": {
     "base_uri": "https://localhost:8080/",
     "height": 1000
    },
    "id": "TDLTFz_yYTKD",
    "outputId": "e5673aa7-123b-4a22-9e49-692d62fea3f2"
   },
   "outputs": [
    {
     "data": {
      "image/png": "[encoded data removed]",
      "text/plain": [
       "<Figure size 1440x1080 with 1 Axes>"
      ]
     },
     "metadata": {
      "needs_background": "light"
     },
     "output_type": "display_data"
    }
   ],
   "source": [
    "plt.figure(figsize=(20,15))\n",
    "ax = sns.boxplot(x='Model',y='Value',hue='Type', data = df_compare, palette=['r','g'])\n",
    "plt.ylim(.85,1)\n",
    "plt.ylabel('Score',fontsize=30)\n",
    "plt.xlabel('Model',fontsize = 30)\n",
    "plt.grid(axis='y')\n",
    "\n",
    "plt.savefig('modeling.png')\n",
    "plt.show()"
   ]
  },
  {
   "cell_type": "code",
   "execution_count": 43,
   "metadata": {
    "colab": {
     "base_uri": "https://localhost:8080/"
    },
    "id": "Rxpq4f5uszlS",
    "outputId": "d40374b5-2891-4a81-ddd0-07c5fd7efcd0"
   },
   "outputs": [
    {
     "name": "stderr",
     "output_type": "stream",
     "text": [
      "/Users/lilianawei/opt/anaconda3/lib/python3.9/site-packages/sklearn/base.py:443: UserWarning: X has feature names, but RandomForestRegressor was fitted without feature names\n",
      "  warnings.warn(\n"
     ]
    },
    {
     "name": "stdout",
     "output_type": "stream",
     "text": [
      "          Value  BS\n",
      "0      1.384168   1\n",
      "1     17.451624   0\n",
      "2     10.353066   0\n",
      "3     22.544001   0\n",
      "4     16.494248   0\n",
      "...         ...  ..\n",
      "1115  11.563586   1\n",
      "1116   0.396921   1\n",
      "1117   0.432358   1\n",
      "1118  26.039065   0\n",
      "1119  15.883722   0\n",
      "\n",
      "[1120 rows x 2 columns]\n"
     ]
    }
   ],
   "source": [
    "# Prediction\n",
    "# Random Forest Regression\n",
    "X = df_trn[['S' , 'K' , 'tau' , 'r']].values\n",
    "y = df_trn['Value'].values\n",
    "y_class = df_trn['BS'].values\n",
    "\n",
    "\n",
    "clf_rf = RF_best\n",
    "clf_rf.fit(X,y)\n",
    "y_pred_regression = pd.DataFrame(clf_rf.predict(df_tst))\n",
    "\n",
    "\n",
    "# XGBoost Classification\n",
    "clf_xgb = XG_best\n",
    "clf_xgb.fit(X, y_class)\n",
    "y_pred_classification = pd.DataFrame(clf_xgb.predict(df_tst))\n",
    "\n",
    "new_df = pd.concat([y_pred_regression, y_pred_classification], axis = 1,)\n",
    "new_df.columns=['Value','BS']\n",
    "\n",
    "print(new_df)"
   ]
  },
  {
   "cell_type": "code",
   "execution_count": 44,
   "metadata": {
    "id": "m74JSVnZWiLK"
   },
   "outputs": [],
   "source": [
    "new_df.to_csv('Predictions.csv', index=False)"
   ]
  },
  {
   "cell_type": "code",
   "execution_count": 45,
   "metadata": {
    "colab": {
     "base_uri": "https://localhost:8080/"
    },
    "id": "F1lIBPfIZl8n",
    "outputId": "254e86f3-e0c0-436a-eca5-d172fec56ba4"
   },
   "outputs": [
    {
     "name": "stdout",
     "output_type": "stream",
     "text": [
      "duration:  0:50:32.262241\n"
     ]
    }
   ],
   "source": [
    "print('duration: ', datetime.now() - start_time)"
   ]
  },
  {
   "cell_type": "code",
   "execution_count": null,
   "metadata": {
    "id": "23n8KhF8YDBT"
   },
   "outputs": [],
   "source": []
  }
 ],
 "metadata": {
  "colab": {
   "provenance": []
  },
  "kernelspec": {
   "display_name": "Python 3 (ipykernel)",
   "language": "python",
   "name": "python3"
  },
  "language_info": {
   "codemirror_mode": {
    "name": "ipython",
    "version": 3
   },
   "file_extension": ".py",
   "mimetype": "text/x-python",
   "name": "python",
   "nbconvert_exporter": "python",
   "pygments_lexer": "ipython3",
   "version": "3.9.12"
  },
  "toc": {
   "base_numbering": 1,
   "nav_menu": {},
   "number_sections": true,
   "sideBar": true,
   "skip_h1_title": false,
   "title_cell": "Table of Contents",
   "title_sidebar": "Contents",
   "toc_cell": false,
   "toc_position": {},
   "toc_section_display": true,
   "toc_window_display": false
  }
 },
 "nbformat": 4,
 "nbformat_minor": 1
}
